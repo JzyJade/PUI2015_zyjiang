{
 "cells": [
  {
   "cell_type": "markdown",
   "metadata": {},
   "source": [
    "##What if we use that the former inmate was or not was not ever employed in a CEO transitional job (third row on the table):\n",
    "\n",
    "##P0=0.637, P1=0.69\n",
    "\n"
   ]
  },
  {
   "cell_type": "code",
   "execution_count": 6,
   "metadata": {
    "collapsed": false
   },
   "outputs": [
    {
     "name": "stdout",
     "output_type": "stream",
     "text": [
      "Populating the interactive namespace from numpy and matplotlib\n"
     ]
    }
   ],
   "source": [
    "import os\n",
    "import sys\n",
    "import numpy as np\n",
    "import pylab as pl\n",
    "%pylab inline\n"
   ]
  },
  {
   "cell_type": "code",
   "execution_count": 7,
   "metadata": {
    "collapsed": false
   },
   "outputs": [],
   "source": [
    "alpha=0.05\n",
    "#we like fractions better then percentages. as a rule of thumb, either use fractions or counts\n",
    "P_0=63.7*0.01 \n",
    "P_1=69*0.01\n",
    "\n",
    "n_0=409\n",
    "n_1=564\n",
    "\n",
    "#lets get the counts by multiplying by the sample size\n",
    "Nt_0=P_0*n_0\n",
    "Nt_1=P_1*n_1"
   ]
  },
  {
   "cell_type": "code",
   "execution_count": 8,
   "metadata": {
    "collapsed": false
   },
   "outputs": [
    {
     "name": "stdout",
     "output_type": "stream",
     "text": [
      "0.667721479959\n"
     ]
    }
   ],
   "source": [
    "#define the sample proportion first\n",
    "sp=(P_0*n_0+P_1*n_1)/(n_1+n_0)\n",
    "print sp"
   ]
  },
  {
   "cell_type": "code",
   "execution_count": 9,
   "metadata": {
    "collapsed": false
   },
   "outputs": [
    {
     "name": "stdout",
     "output_type": "stream",
     "text": [
      "0.637 409 564 0.0305917288695\n"
     ]
    }
   ],
   "source": [
    "# i am goonna create a little one line function to calculate the standard dev, it is not really needed, but just to show you how you do such a thing\n",
    "sp_stdev= lambda p, n: np.sqrt( p * ( 1 - p ) /n[0] +  p * ( 1 - p )/n[1]  )\n",
    "\n",
    "\n",
    "sp_stdev_2y=sp_stdev((Nt_0+Nt_1)/(n_0+n_1),[n_0,n_1])\n",
    "print P_0, n_0, n_1, sp_stdev_2y"
   ]
  },
  {
   "cell_type": "code",
   "execution_count": 10,
   "metadata": {
    "collapsed": false
   },
   "outputs": [
    {
     "name": "stdout",
     "output_type": "stream",
     "text": [
      "1.73249443424\n"
     ]
    }
   ],
   "source": [
    "zscore = lambda p0, p1, s : (p0-p1)/s\n",
    "z_2y = zscore(P_1, P_0, sp_stdev_2y)\n",
    "print z_2y"
   ]
  },
  {
   "cell_type": "code",
   "execution_count": 11,
   "metadata": {
    "collapsed": false
   },
   "outputs": [
    {
     "name": "stdout",
     "output_type": "stream",
     "text": [
      "is the p value 0.00 smaller than the critical value 0.05? \n",
      "YES!\n",
      "the Null hypothesis is rejected\n"
     ]
    }
   ],
   "source": [
    "##p-value for employment after 2 years: since the largest number we read off the table for alpha=0.05 is smaller then the value for our statistic our p-value will be smaller then calculated using .9998\n",
    "##thus using 0.9998 is a **conservative** approach. \n",
    "\n",
    "p_2y=1-0.9998\n",
    "\n",
    "\n",
    "def report_result(p,a):\n",
    "    print 'is the p value {0:.2f} smaller than the critical value {1:.2f}? '.format(p,a)\n",
    "    if p<a:\n",
    "        print \"YES!\"\n",
    "    else: print \"NO!\"\n",
    "    \n",
    "    print 'the Null hypothesis is {}'.format( 'rejected' if p<a  else 'not rejected') \n",
    "\n",
    "    \n",
    "report_result(p_2y,alpha)"
   ]
  },
  {
   "cell_type": "markdown",
   "metadata": {},
   "source": [
    "##Chisquare: lets see what the chi sq statistics says about the employment for >6 consecutive months (raw 6)\n",
    "                       | employed in subsadized job | employed  | not employes |     |\n",
    "                       |----------------------------|-----------|--------------|-----|\n",
    "                       | test sample                | 14.7*5.64 | 85.3*5.64    | 564 |\n",
    "                       | control sample             | 11.9*4.09 | 88.1*4.09    | 409 |\n",
    "                       | total                      | 131.579   | 841.421      | 973 |\n",
    "                      "
   ]
  },
  {
   "cell_type": "code",
   "execution_count": 13,
   "metadata": {
    "collapsed": false
   },
   "outputs": [
    {
     "name": "stdout",
     "output_type": "stream",
     "text": [
      "1.58939333193\n"
     ]
    }
   ],
   "source": [
    "Ntot = 973\n",
    "expected = 564*409*131.579*841.421\n",
    "sample_values = [[14.7*5.64,85.3*5.64],[11.9*4.09,88.1*4.09]]\n",
    " \n",
    "chisqstat= lambda N, values, expect : N*((values[0][0]*values[1][1]-values[0][1]*values[1][0])**2)/(expect)\n",
    "\n",
    "print chisqstat(Ntot,  sample_values, expected)"
   ]
  },
  {
   "cell_type": "markdown",
   "metadata": {},
   "source": [
    "Because 1.589 is smaller than 3.84 that is the chi-square value at the one df with alpha equal 0.05. Base on this result, we cannot reject the null hypothesis."
   ]
  },
  {
   "cell_type": "code",
   "execution_count": null,
   "metadata": {
    "collapsed": true
   },
   "outputs": [],
   "source": []
  }
 ],
 "metadata": {
  "kernelspec": {
   "display_name": "Python 2",
   "language": "python",
   "name": "python2"
  },
  "language_info": {
   "codemirror_mode": {
    "name": "ipython",
    "version": 2
   },
   "file_extension": ".py",
   "mimetype": "text/x-python",
   "name": "python",
   "nbconvert_exporter": "python",
   "pygments_lexer": "ipython2",
   "version": "2.7.10"
  }
 },
 "nbformat": 4,
 "nbformat_minor": 0
}
