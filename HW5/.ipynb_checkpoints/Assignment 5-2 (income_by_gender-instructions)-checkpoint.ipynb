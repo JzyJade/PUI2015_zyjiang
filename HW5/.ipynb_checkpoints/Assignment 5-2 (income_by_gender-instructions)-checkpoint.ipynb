{
 "cells": [
  {
   "cell_type": "markdown",
   "metadata": {},
   "source": [
    "##GENDER INCOME GAP\n",
    "\n",
    "you may know that it is estimated that women earn about 78% of men in the same job position. \n",
    "Can we test that on NYC income data? Can we turn that into a prediction: if you get hired at a certain stipend as a men, what should you expect to make as a woman? (or from the point of view of a job employer, perhaps not one with a very strong moral compass, what should I offer a woman job candidate, given what I would offer a man for the same job?)\n",
    "\n",
    "\n"
   ]
  },
  {
   "cell_type": "code",
   "execution_count": 17,
   "metadata": {
    "collapsed": false
   },
   "outputs": [
    {
     "name": "stdout",
     "output_type": "stream",
     "text": [
      "Populating the interactive namespace from numpy and matplotlib\n"
     ]
    }
   ],
   "source": [
    "import pandas as pd\n",
    "import sys\n",
    "import os\n",
    "import numpy \n",
    "import pylab as pl\n",
    "\n",
    "import json\n",
    "import os\n",
    "#s = json.load( open(os.getenv('PUI2015')+\"/fbb_matplotlibrc.json\") )\n",
    "#pl.rcParams.update(s)\n",
    "\n",
    "\n",
    "\n",
    "%pylab inline"
   ]
  },
  {
   "cell_type": "code",
   "execution_count": 2,
   "metadata": {
    "collapsed": false
   },
   "outputs": [
    {
     "data": {
      "text/html": [
       "\n",
       "        <iframe\n",
       "            width=\"400\"\n",
       "            height=\"300\"\n",
       "            src=\"https://www.youtube.com/embed/G_ikzQM93W8\"\n",
       "            frameborder=\"0\"\n",
       "            allowfullscreen\n",
       "        ></iframe>\n",
       "        "
      ],
      "text/plain": [
       "<IPython.lib.display.YouTubeVideo at 0x1043ce450>"
      ]
     },
     "execution_count": 2,
     "metadata": {},
     "output_type": "execute_result"
    }
   ],
   "source": [
    "#The gender gap(non mandatory viewing)\n",
    "from IPython.display import YouTubeVideo\n",
    "YouTubeVideo(\"G_ikzQM93W8\")"
   ]
  },
  {
   "cell_type": "markdown",
   "metadata": {},
   "source": [
    "the Census data on income\n",
    "http://www.census.gov/hhes/www/cpstables/032015/perinc/pinc03_000.htm\n",
    "\n",
    "unfortunately a lot of the links that i originally used a few weeks ago are broken now. I posted the data I had used on the class webpage here (together with data for the buildings & energy homework): http://cosmo.nyu.edu/~fb55/UI_CUSP_2015/data"
   ]
  },
  {
   "cell_type": "code",
   "execution_count": 3,
   "metadata": {
    "collapsed": false,
    "scrolled": false
   },
   "outputs": [],
   "source": [
    "#to use the url just pas it to pandas read_excell\n",
    "url=\"http://cosmo.nyu.edu/~fb55/UI_CUSP_2015/data/\"\n",
    "#split your data by male and female, for example you can load the data into 2 disctionary. other variables may be relevant: for example race.\n",
    "#the names are not informative, and i am not giving you any meta data to find out what is in each file. \n",
    "# 08_2 files are male, 08_3 are female, and I am leaving in the lines of code that read the male files into races\n",
    "\n",
    "allmales={}\n",
    "allfemales={}\n",
    "allmales['all']=pd.read_excel(url+'/pinc08_2_1_1.xls',header=9)#%s/pinc03_2_1_1.xls'%url, header=9)\n",
    "allmales['white']=pd.read_excel(url+'/pinc08_2_1_4.xls', header=9)\n",
    "allmales['black']=pd.read_excel(url+'/pinc08_2_1_6.xls', header=9)\n",
    "allmales['hispanic']=pd.read_excel(url+'/pinc08_2_1_9.xls', header=9)\n",
    "allmales['asian']=pd.read_excel(url+'/pinc08_2_1_8.xls', header=9)\n",
    "\n",
    "#allfemales['.....\n",
    "#[...]"
   ]
  },
  {
   "cell_type": "code",
   "execution_count": 4,
   "metadata": {
    "collapsed": true
   },
   "outputs": [],
   "source": [
    "#REMOVE\n",
    "allfemales['all']=pd.read_excel(url+'/pinc08_3_1_1.xls', header=9)\n",
    "allfemales['white']=pd.read_excel(url+'/pinc08_3_1_4.xls', header=9)\n",
    "allfemales['black']=pd.read_excel(url+'/pinc08_3_1_6.xls', header=9)\n",
    "allfemales['hispanic']=pd.read_excel(url+'/pinc08_3_1_9.xls', header=9)\n",
    "allfemales['asian']=pd.read_excel(url+'/pinc08_3_1_8.xls', header=9)"
   ]
  },
  {
   "cell_type": "code",
   "execution_count": 5,
   "metadata": {
    "collapsed": false
   },
   "outputs": [
    {
     "name": "stdout",
     "output_type": "stream",
     "text": [
      "Index([      u'Characteristic',    u'Total with Income',\n",
      "       u'$1 to $2,499 or loss',     u'$2,500 to $4,999',\n",
      "           u'$5,000 to $7,499',     u'$7,500 to $9,999',\n",
      "         u'$10,000 to $12,499',   u'$12,500 to $14,999',\n",
      "         u'$15,000 to $17,499',   u'$17,500 to $19,999',\n",
      "         u'$20,000 to $22,499',   u'$22,500 to $24,999',\n",
      "         u'$25,000 to $27,499',   u'$27,500 to $29,999',\n",
      "         u'$30,000 to $32,499',   u'$32,500 to $34,999',\n",
      "         u'$35,000 to $37,499',   u'$37,500 to $39,999',\n",
      "         u'$40,000 to $42,499',   u'$42,500 to $44,999',\n",
      "         u'$45,000 to $47,499',   u'$47,500 to $49,999',\n",
      "         u'$50,000 to $52,499',   u'$52,500 to $54,999',\n",
      "         u'$55,000 to $57,499',   u'$57,500 to $59,999',\n",
      "         u'$60,000 to $62,499',   u'$62,500 to $64,999',\n",
      "         u'$65,000 to $67,499',   u'$67,500 to $69,999',\n",
      "         u'$70,000 to $72,499',   u'$72,500 to $74,999',\n",
      "         u'$75,000 to $77,499',   u'$77,500 to $79,999',\n",
      "         u'$80,000 to $82,499',   u'$82,500 to $84,999',\n",
      "         u'$85,000 to $87,499',   u'$87,500 to $89,999',\n",
      "         u'$90,000 to $92,499',   u'$92,500 to $94,999',\n",
      "         u'$95,000 to $97,499',   u'$97,500 to $99,999',\n",
      "          u'$100,000 and over',        u'Median income',\n",
      "                u'Unnamed: 44',          u'Mean income',\n",
      "                u'Unnamed: 46',           u'Gini ratio',\n",
      "                u'Unnamed: 48'],\n",
      "      dtype='object')\n"
     ]
    }
   ],
   "source": [
    "#lest see what is in the data\n",
    "from pandas.tools.plotting import scatter_matrix\n",
    "\n",
    "#scatter_matrix(allfemales['all'], alpha=0.2, figsize=(6, 6), diagonal='kde')\n",
    "\n",
    "#like for the building homework: this fails cause the data is not parsed and formatted propoerly\n",
    "#so maybe just print the columns to find out\n",
    "print allmales['all'].columns"
   ]
  },
  {
   "cell_type": "markdown",
   "metadata": {},
   "source": [
    "##exploratory phase"
   ]
  },
  {
   "cell_type": "code",
   "execution_count": 6,
   "metadata": {
    "collapsed": false
   },
   "outputs": [
    {
     "name": "stderr",
     "output_type": "stream",
     "text": [
      "/Users/jiangzeyu/anaconda/lib/python2.7/site-packages/IPython/kernel/__main__.py:10: SettingWithCopyWarning: \n",
      "A value is trying to be set on a copy of a slice from a DataFrame\n",
      "\n",
      "See the caveats in the documentation: http://pandas.pydata.org/pandas-docs/stable/indexing.html#indexing-view-versus-copy\n"
     ]
    }
   ],
   "source": [
    "#Another way to remove non real entries, is to use the np.isreal command, \n",
    "#i end up doing it in a for loop, which is ugly.\n",
    "#think about how you could improve on that if you already have coding experience\n",
    "#and are used to pythonic ways!\n",
    "\n",
    "for k in allmales:\n",
    "    nonreal  = allmales[k].applymap(np.isreal)\n",
    "    for c in allmales[k].columns :\n",
    "        if nonreal.sum()[c]>1 and nonreal.sum()[c]<49:\n",
    "            allmales[k][c][~nonreal[c]] = np.float('NaN')\n",
    "            allmales[k][c] = allmales[k][c].astype(float)\n",
    "\n",
    "    "
   ]
  },
  {
   "cell_type": "markdown",
   "metadata": {
    "collapsed": false
   },
   "source": [
    "now you can try again with the scatter matrix and see if there are any insightful correlations. \n",
    "please  make and comment the plot\n"
   ]
  },
  {
   "cell_type": "code",
   "execution_count": 7,
   "metadata": {
    "collapsed": false
   },
   "outputs": [
    {
     "name": "stdout",
     "output_type": "stream",
     "text": [
      "Index([      u'Characteristic',    u'Total with Income',\n",
      "       u'$1 to $2,499 or loss',     u'$2,500 to $4,999',\n",
      "           u'$5,000 to $7,499',     u'$7,500 to $9,999',\n",
      "         u'$10,000 to $12,499',   u'$12,500 to $14,999',\n",
      "         u'$15,000 to $17,499',   u'$17,500 to $19,999',\n",
      "         u'$20,000 to $22,499',   u'$22,500 to $24,999',\n",
      "         u'$25,000 to $27,499',   u'$27,500 to $29,999',\n",
      "         u'$30,000 to $32,499',   u'$32,500 to $34,999',\n",
      "         u'$35,000 to $37,499',   u'$37,500 to $39,999',\n",
      "         u'$40,000 to $42,499',   u'$42,500 to $44,999',\n",
      "         u'$45,000 to $47,499',   u'$47,500 to $49,999',\n",
      "         u'$50,000 to $52,499',   u'$52,500 to $54,999',\n",
      "         u'$55,000 to $57,499',   u'$57,500 to $59,999',\n",
      "         u'$60,000 to $62,499',   u'$62,500 to $64,999',\n",
      "         u'$65,000 to $67,499',   u'$67,500 to $69,999',\n",
      "         u'$70,000 to $72,499',   u'$72,500 to $74,999',\n",
      "         u'$75,000 to $77,499',   u'$77,500 to $79,999',\n",
      "         u'$80,000 to $82,499',   u'$82,500 to $84,999',\n",
      "         u'$85,000 to $87,499',   u'$87,500 to $89,999',\n",
      "         u'$90,000 to $92,499',   u'$92,500 to $94,999',\n",
      "         u'$95,000 to $97,499',   u'$97,500 to $99,999',\n",
      "          u'$100,000 and over',        u'Median income',\n",
      "                u'Unnamed: 44',          u'Mean income',\n",
      "                u'Unnamed: 46',           u'Gini ratio',\n",
      "                u'Unnamed: 48'],\n",
      "      dtype='object')\n"
     ]
    }
   ],
   "source": [
    "#do the same for females\n",
    "print allfemales['all'].columns"
   ]
  },
  {
   "cell_type": "code",
   "execution_count": 8,
   "metadata": {
    "collapsed": false
   },
   "outputs": [
    {
     "name": "stderr",
     "output_type": "stream",
     "text": [
      "/Users/jiangzeyu/anaconda/lib/python2.7/site-packages/IPython/kernel/__main__.py:5: SettingWithCopyWarning: \n",
      "A value is trying to be set on a copy of a slice from a DataFrame\n",
      "\n",
      "See the caveats in the documentation: http://pandas.pydata.org/pandas-docs/stable/indexing.html#indexing-view-versus-copy\n"
     ]
    }
   ],
   "source": [
    "for k in allfemales:\n",
    "    nonreal  = allfemales[k].applymap(np.isreal)\n",
    "    for c in allfemales[k].columns :\n",
    "        if nonreal.sum()[c]>1 and nonreal.sum()[c]<49:\n",
    "            allfemales[k][c][~nonreal[c]] = np.float('NaN')\n",
    "            allfemales[k][c] = allfemales[k][c].astype(float)"
   ]
  },
  {
   "cell_type": "markdown",
   "metadata": {},
   "source": [
    "##to see how the male and female income relate to each other plot the Total Median Income (from any source of revenue) of females vs the Total Median Income of males by race (one data point per race)\n",
    "\n",
    "##also plot the 1-1 line: the diagonal that corresponds to men and women getting the same pay\n",
    "(make the plot and describe it in a \"caption\" in the cell below the plot)"
   ]
  },
  {
   "cell_type": "code",
   "execution_count": 24,
   "metadata": {
    "collapsed": false
   },
   "outputs": [
    {
     "data": {
      "text/plain": [
       "<matplotlib.text.Text at 0x10abc2390>"
      ]
     },
     "execution_count": 24,
     "metadata": {},
     "output_type": "execute_result"
    },
    {
     "data": {
      "image/png": "[encoded data removed]",
      "text/plain": [
       "<matplotlib.figure.Figure at 0x10a7b4050>"
      ]
     },
     "metadata": {},
     "output_type": "display_data"
    }
   ],
   "source": [
    "##pl.scatter[...]\n",
    "pl.figure(figsize=(10,10))\n",
    "pl.scatter(allmales['all']['Median income'][1], allfemales['all']['Median income'][1],s=50,c='red')\n",
    "pl.scatter(allmales['black']['Median income'][1], allfemales['black']['Median income'][1],s=50,c='black')\n",
    "pl.scatter(allmales['white']['Median income'][1], allfemales['white']['Median income'][1],s=50,c='blue')\n",
    "pl.scatter(allmales['asian']['Median income'][1], allfemales['asian']['Median income'][1],s=50,c='green')\n",
    "pl.scatter(allmales['hispanic']['Median income'][1], allfemales['hispanic']['Median income'][1],s=50,c='yellow')\n",
    "pl.plot([0,40000],[0,40000],'k')\n",
    "pl.xlabel('Male Median Income',fontsize=10)\n",
    "pl.ylabel('Female Median Income',fontsize=10)"
   ]
  },
  {
   "cell_type": "markdown",
   "metadata": {},
   "source": [
    "#####This scatter plot show that the females median income are less than the males median income in all race. "
   ]
  },
  {
   "cell_type": "markdown",
   "metadata": {},
   "source": [
    "#Now fit it with a line!\n",
    "you can use statsmodels, or scipy, numpy, or create your own residual minimization function. \n",
    "if you want to use numpy (and you do not have to!) you can for example use \n",
    "\n",
    "\n",
    "pl.plot(newx,np.poly1d(np.ployfit(x,y,1))(newx)\n",
    "\n",
    "to make and plot the fit in one line (although this way you did not save the parameters so you need to rerun the function to get the slope and intercept ... :-/\n",
    "\n",
    "why not challenge yourself (if you want) and  create your own residual minimization function you can minimize it with scipy instead of a nested for loop (which is called 'brute force minimization')\n",
    "\n",
    "from scipy.optimize import minimize\n",
    "\n",
    "def line ().....\n",
    "    #this would be a function that creates a line given parameters, like we did in class\n",
    "    ...\n",
    "    return y\n",
    "def residuals(data, model, error=None):\n",
    "    #you can add errors if you want\n",
    "    you want to return the sum of the residuals (difference b/w data and model **2)\n",
    "    return residuals\n",
    "\n",
    "you need an initial guess for the parameters, where you start searching. it has to be a single variable, so for 2 parameters make a list of 2 elements. the numbers inside do not have to be 0 and 1 - but choose something not too crazy or your minimization will get lost!\n",
    "\n",
    "p0 = [0,1] \n",
    "\n",
    "result = minimize(residuals, p0, args=(all_males, all_females))\n",
    "\n",
    "in args i put all arguments of the function residuals that are not to be evaluated for the minimization (in this case the data)"
   ]
  },
  {
   "cell_type": "code",
   "execution_count": 71,
   "metadata": {
    "collapsed": false
   },
   "outputs": [
    {
     "name": "stdout",
     "output_type": "stream",
     "text": [
      "45\n",
      "46\n"
     ]
    }
   ],
   "source": [
    "#fit and plot here\n",
    "#[...]\n",
    "all_males_median = np.array(allmales['all']['Median income'].dropna())\n",
    "all_females_median = np.array(allfemales['all']['Median income'].dropna())\n",
    "print len(all_males_median)\n",
    "print len(all_females_median)"
   ]
  },
  {
   "cell_type": "code",
   "execution_count": 72,
   "metadata": {
    "collapsed": false
   },
   "outputs": [
    {
     "name": "stdout",
     "output_type": "stream",
     "text": [
      "45\n",
      "45\n"
     ]
    }
   ],
   "source": [
    "all_females_median1 = np.random.choice(all_females_median,len(all_males_median),replace=False,p=None)\n",
    "print len(all_males_median)\n",
    "print len(all_females_median1)"
   ]
  },
  {
   "cell_type": "code",
   "execution_count": 73,
   "metadata": {
    "collapsed": false
   },
   "outputs": [],
   "source": [
    "data=pd.DataFrame({'all_males_median':all_males_median,'all_females_median1':all_females_median1})"
   ]
  },
  {
   "cell_type": "code",
   "execution_count": 74,
   "metadata": {
    "collapsed": false
   },
   "outputs": [
    {
     "data": {
      "text/html": [
       "<div>\n",
       "<table border=\"1\" class=\"dataframe\">\n",
       "  <thead>\n",
       "    <tr style=\"text-align: right;\">\n",
       "      <th></th>\n",
       "      <th>all_females_median1</th>\n",
       "      <th>all_males_median</th>\n",
       "    </tr>\n",
       "  </thead>\n",
       "  <tbody>\n",
       "    <tr>\n",
       "      <th>0</th>\n",
       "      <td>6800</td>\n",
       "      <td>35228</td>\n",
       "    </tr>\n",
       "    <tr>\n",
       "      <th>1</th>\n",
       "      <td>3965</td>\n",
       "      <td>39903</td>\n",
       "    </tr>\n",
       "    <tr>\n",
       "      <th>2</th>\n",
       "      <td>4974</td>\n",
       "      <td>40298</td>\n",
       "    </tr>\n",
       "    <tr>\n",
       "      <th>3</th>\n",
       "      <td>18035</td>\n",
       "      <td>19557</td>\n",
       "    </tr>\n",
       "    <tr>\n",
       "      <th>4</th>\n",
       "      <td>1864</td>\n",
       "      <td>2359</td>\n",
       "    </tr>\n",
       "  </tbody>\n",
       "</table>\n",
       "</div>"
      ],
      "text/plain": [
       "   all_females_median1  all_males_median\n",
       "0                 6800             35228\n",
       "1                 3965             39903\n",
       "2                 4974             40298\n",
       "3                18035             19557\n",
       "4                 1864              2359"
      ]
     },
     "execution_count": 74,
     "metadata": {},
     "output_type": "execute_result"
    }
   ],
   "source": [
    "data.head()"
   ]
  },
  {
   "cell_type": "code",
   "execution_count": null,
   "metadata": {
    "collapsed": false
   },
   "outputs": [],
   "source": [
    "import statsmodels.formula.api as smf\n",
    "model = smf.ols('all_females_median1~all_males_median', data=data).fit()\n",
    "print model.summary()"
   ]
  },
  {
   "cell_type": "code",
   "execution_count": 76,
   "metadata": {
    "collapsed": false
   },
   "outputs": [
    {
     "data": {
      "text/plain": [
       "[<matplotlib.lines.Line2D at 0x10ebe8550>]"
      ]
     },
     "execution_count": 76,
     "metadata": {},
     "output_type": "execute_result"
    },
    {
     "data": {
      "image/png": "[encoded data removed]",
      "text/plain": [
       "<matplotlib.figure.Figure at 0x10e9502d0>"
      ]
     },
     "metadata": {},
     "output_type": "display_data"
    }
   ],
   "source": [
    "x= pd.DataFrame({'all_males_median': np.linspace(0, 50000, 200)})\n",
    "pl.plot(x,model.predict(x),'b')"
   ]
  },
  {
   "cell_type": "code",
   "execution_count": 77,
   "metadata": {
    "collapsed": false
   },
   "outputs": [
    {
     "data": {
      "text/plain": [
       "[<matplotlib.lines.Line2D at 0x10ea28d90>]"
      ]
     },
     "execution_count": 77,
     "metadata": {},
     "output_type": "execute_result"
    },
    {
     "data": {
      "image/png": "[encoded data removed]",
      "text/plain": [
       "<matplotlib.figure.Figure at 0x10d8e2d90>"
      ]
     },
     "metadata": {},
     "output_type": "display_data"
    }
   ],
   "source": [
    "pl.figure(figsize=(10,10))\n",
    "pl.scatter(allmales['all']['Median income'][1], allfemales['all']['Median income'][1],s=50,c='red')\n",
    "pl.scatter(allmales['black']['Median income'][1], allfemales['black']['Median income'][1],s=50,c='black')\n",
    "pl.scatter(allmales['white']['Median income'][1], allfemales['white']['Median income'][1],s=50,c='blue')\n",
    "pl.scatter(allmales['asian']['Median income'][1], allfemales['asian']['Median income'][1],s=50,c='green')\n",
    "pl.scatter(allmales['hispanic']['Median income'][1], allfemales['hispanic']['Median income'][1],s=50,c='yellow')\n",
    "pl.plot([0,40000],[0,40000],'k')\n",
    "pl.xlabel('Male Median Income',fontsize=10)\n",
    "pl.ylabel('Female Median Income',fontsize=10)\n",
    "x= pd.DataFrame({'all_males_median': np.linspace(0, 50000, 200)})\n",
    "pl.plot(x,model.predict(x),'b')"
   ]
  },
  {
   "cell_type": "markdown",
   "metadata": {},
   "source": [
    "##it turns out that there is an analytical solution for the OLS regression it is coded below. please try to read the code and understand the formula! \n"
   ]
  },
  {
   "cell_type": "code",
   "execution_count": 78,
   "metadata": {
    "collapsed": false
   },
   "outputs": [],
   "source": [
    "#this is the analytical best regression line. it can be proved (ask me about it if you want!)\n",
    "from scipy import stats\n",
    "cor = stats.spearmanr(all_males_median, all_females_median1)\n",
    "all_males_median.std()/all_females_median1.std()\n",
    "beta1=cor[0]*all_females_median1.std()/all_males_median.std()\n",
    "beta0=all_females_median1.mean()-beta1*all_males_median.mean()"
   ]
  },
  {
   "cell_type": "code",
   "execution_count": 79,
   "metadata": {
    "collapsed": false
   },
   "outputs": [
    {
     "name": "stdout",
     "output_type": "stream",
     "text": [
      "SpearmanrResult(correlation=0.028063241106719369, pvalue=0.85480399368982485)\n",
      "0.0172108346407\n",
      "10124.9880118\n"
     ]
    }
   ],
   "source": [
    "print cor\n",
    "print beta1\n",
    "print beta0"
   ]
  },
  {
   "cell_type": "markdown",
   "metadata": {},
   "source": [
    "##and plot the line corresponding to the analytical regression to compare it with the result of your numerical one"
   ]
  },
  {
   "cell_type": "code",
   "execution_count": 88,
   "metadata": {
    "collapsed": false
   },
   "outputs": [
    {
     "data": {
      "text/plain": [
       "[<matplotlib.lines.Line2D at 0x111547210>]"
      ]
     },
     "execution_count": 88,
     "metadata": {},
     "output_type": "execute_result"
    },
    {
     "data": {
      "image/png": "[encoded data removed]",
      "text/plain": [
       "<matplotlib.figure.Figure at 0x10ed94610>"
      ]
     },
     "metadata": {},
     "output_type": "display_data"
    }
   ],
   "source": [
    "#[...]\n",
    "x = np.arange(0,50000)\n",
    "y = beta0 + x * beta1\n",
    "pl.plot(x,y,'g')\n"
   ]
  },
  {
   "cell_type": "code",
   "execution_count": 90,
   "metadata": {
    "collapsed": false
   },
   "outputs": [
    {
     "data": {
      "text/plain": [
       "[<matplotlib.lines.Line2D at 0x111ab2c50>]"
      ]
     },
     "execution_count": 90,
     "metadata": {},
     "output_type": "execute_result"
    },
    {
     "data": {
      "image/png": "[encoded data removed]",
      "text/plain": [
       "<matplotlib.figure.Figure at 0x111662fd0>"
      ]
     },
     "metadata": {},
     "output_type": "display_data"
    }
   ],
   "source": [
    "pl.figure(figsize=(10,10))\n",
    "pl.scatter(allmales['all']['Median income'][1], allfemales['all']['Median income'][1],s=50,c='red')\n",
    "pl.scatter(allmales['black']['Median income'][1], allfemales['black']['Median income'][1],s=50,c='black')\n",
    "pl.scatter(allmales['white']['Median income'][1], allfemales['white']['Median income'][1],s=50,c='blue')\n",
    "pl.scatter(allmales['asian']['Median income'][1], allfemales['asian']['Median income'][1],s=50,c='green')\n",
    "pl.scatter(allmales['hispanic']['Median income'][1], allfemales['hispanic']['Median income'][1],s=50,c='yellow')\n",
    "pl.plot([0,40000],[0,40000],'k')\n",
    "pl.xlabel('Male Median Income',fontsize=10)\n",
    "pl.ylabel('Female Median Income',fontsize=10)\n",
    "x = np.arange(0,50000)\n",
    "y = beta0 + x * beta1\n",
    "pl.plot(x,y,'g')"
   ]
  },
  {
   "cell_type": "markdown",
   "metadata": {},
   "source": [
    "#this was done with THE TOTAL MEDIAN INCOME, let's now see if all forms of income lead to a different fit. \n",
    "\n",
    "if you use one data point for source of income (along the 'Median income' column) and fit a line and the line fit is similar then the median income was representative fo all forms of income for this analysis\n",
    "\n",
    "to unravel the data and concatenate them back together in a single array is a little complex (there may be easier way, this is just wha i came up with. if you have something better please share!!)\n",
    "here ar a few lines of code that should do the trick. i used nu.concatenate to put together arrays (it takes a list of arrays) and np.flatten to make the array 1 dimensional after merging. i also masked the nan values. i used the numpy ma (masled array) package. ever array is associated by this package to a mask array of Bools [True....False...] of the same size. the "
   ]
  },
  {
   "cell_type": "code",
   "execution_count": 91,
   "metadata": {
    "collapsed": true
   },
   "outputs": [],
   "source": [
    "all_males=np.ma.array(np.concatenate([allmales['all']['Median income'][:].values,allmales['white']['Median income'][:].values,allmales['black']['Median income'][:].values,allmales['hispanic']['Median income'][:].values,allmales['asian']['Median income'][:].values]).flatten())\n",
    "\n",
    "all_females=np.ma.array(np.concatenate([allfemales['all']['Median income'][:].values,allfemales['white']['Median income'][:].values,allfemales['black']['Median income'][:].values,allfemales['hispanic']['Median income'][:].values,allfemales['asian']['Median income'][:].values]).flatten())\n",
    "\n",
    "#I am gonna create the mask int he next line. \n",
    "#the mask is True where either male or female value is Nan. \n",
    "#Notice that True is really just >1, and False really 0. \n",
    "#so i can add the male and female mask and the resulting mask will be \n",
    "#False where both arrays are not Nan, and true otherwise. \n",
    "\n",
    "allmask = [np.isnan(all_males) + np.isnan(all_females)]\n",
    "\n",
    "all_females.mask = allmask\n",
    "all_males.mask = allmask"
   ]
  },
  {
   "cell_type": "code",
   "execution_count": 99,
   "metadata": {
    "collapsed": false
   },
   "outputs": [
    {
     "name": "stdout",
     "output_type": "stream",
     "text": [
      "245\n",
      "245\n"
     ]
    }
   ],
   "source": [
    "print len(all_males)\n",
    "print len(all_females)"
   ]
  },
  {
   "cell_type": "code",
   "execution_count": 100,
   "metadata": {
    "collapsed": true
   },
   "outputs": [],
   "source": [
    "data1=pd.DataFrame({'all_males':all_males,'all_females':all_females})"
   ]
  },
  {
   "cell_type": "code",
   "execution_count": 103,
   "metadata": {
    "collapsed": false
   },
   "outputs": [
    {
     "name": "stdout",
     "output_type": "stream",
     "text": [
      "                            OLS Regression Results                            \n",
      "==============================================================================\n",
      "Dep. Variable:            all_females   R-squared:                       0.859\n",
      "Model:                            OLS   Adj. R-squared:                  0.859\n",
      "Method:                 Least Squares   F-statistic:                     1075.\n",
      "Date:                Sat, 17 Oct 2015   Prob (F-statistic):           7.21e-77\n",
      "Time:                        20:24:49   Log-Likelihood:                -1668.8\n",
      "No. Observations:                 178   AIC:                             3342.\n",
      "Df Residuals:                     176   BIC:                             3348.\n",
      "Df Model:                           1                                         \n",
      "Covariance Type:            nonrobust                                         \n",
      "==============================================================================\n",
      "                 coef    std err          t      P>|t|      [95.0% Conf. Int.]\n",
      "------------------------------------------------------------------------------\n",
      "Intercept   1493.0394    351.359      4.249      0.000       799.619  2186.459\n",
      "all_males      0.6090      0.019     32.787      0.000         0.572     0.646\n",
      "==============================================================================\n",
      "Omnibus:                       35.086   Durbin-Watson:                   1.506\n",
      "Prob(Omnibus):                  0.000   Jarque-Bera (JB):              368.629\n",
      "Skew:                          -0.011   Prob(JB):                     8.98e-81\n",
      "Kurtosis:                      10.050   Cond. No.                     3.09e+04\n",
      "==============================================================================\n",
      "\n",
      "Warnings:\n",
      "[1] Standard Errors assume that the covariance matrix of the errors is correctly specified.\n",
      "[2] The condition number is large, 3.09e+04. This might indicate that there are\n",
      "strong multicollinearity or other numerical problems.\n"
     ]
    }
   ],
   "source": [
    "model1 = smf.ols(formula='all_females ~ all_males', data = data1).fit()\n",
    "print model1.summary()"
   ]
  },
  {
   "cell_type": "code",
   "execution_count": 104,
   "metadata": {
    "collapsed": false
   },
   "outputs": [
    {
     "data": {
      "text/plain": [
       "<matplotlib.collections.PathCollection at 0x113f13790>"
      ]
     },
     "execution_count": 104,
     "metadata": {},
     "output_type": "execute_result"
    },
    {
     "data": {
      "image/png": "[encoded data removed]",
      "text/plain": [
       "<matplotlib.figure.Figure at 0x110d99ed0>"
      ]
     },
     "metadata": {},
     "output_type": "display_data"
    }
   ],
   "source": [
    "#fit and plot [...]\n",
    "pl.scatter(all_males, all_females)"
   ]
  },
  {
   "cell_type": "markdown",
   "metadata": {
    "collapsed": true
   },
   "source": [
    "#is the line fit similar? can you find any high legverage points?\n",
    "####The line looks like to fit similar.\n"
   ]
  },
  {
   "cell_type": "code",
   "execution_count": 41,
   "metadata": {
    "collapsed": false
   },
   "outputs": [],
   "source": [
    "##remove\n",
    "##this was my final plot. yours do not have to look like this, this is just an example\n",
    "#for your convenience."
   ]
  },
  {
   "cell_type": "code",
   "execution_count": 107,
   "metadata": {
    "collapsed": false
   },
   "outputs": [
    {
     "data": {
      "text/plain": [
       "<matplotlib.legend.Legend at 0x1140624d0>"
      ]
     },
     "execution_count": 107,
     "metadata": {},
     "output_type": "execute_result"
    },
    {
     "data": {
      "image/png": "[encoded data removed]",
      "text/plain": [
       "<matplotlib.figure.Figure at 0x113f5cb10>"
      ]
     },
     "metadata": {},
     "output_type": "display_data"
    }
   ],
   "source": [
    "pl.figure(figsize=(10,10))\n",
    "pl.scatter(all_males, all_females, s=50, alpha=0.5, c='k')\n",
    "pl.scatter(allmales['all']['Median income'][1], allfemales['all']['Median income'][1],s=50,c='red',label='all')\n",
    "pl.scatter(allmales['black']['Median income'][1], allfemales['black']['Median income'][1],s=50,c='black',label='black')\n",
    "pl.scatter(allmales['white']['Median income'][1], allfemales['white']['Median income'][1],s=50,c='blue',label='white')\n",
    "pl.scatter(allmales['asian']['Median income'][1], allfemales['asian']['Median income'][1],s=50,c='green',label='asian')\n",
    "pl.scatter(allmales['hispanic']['Median income'][1], allfemales['hispanic']['Median income'][1],s=50,c='yellow',label='hispanic')\n",
    "pl.plot([0,40000],[0,40000],'k',label ='analytical regression')\n",
    "pl.xlabel('Male Median Income',fontsize=10)\n",
    "pl.ylabel('Female Median Income',fontsize=10)\n",
    "x = np.arange(0,50000)\n",
    "y = beta0 + x * beta1\n",
    "pl.plot(x,y,'g',label ='model')\n",
    "x= pd.DataFrame({'all_males_median': np.linspace(0, 50000, 200)})\n",
    "pl.plot(x,model.predict(x),'b',label='regression through 0')\n",
    "pl.legend()"
   ]
  },
  {
   "cell_type": "markdown",
   "metadata": {},
   "source": [
    "##Now pick a stipend, maybe your ideal stipend? \n",
    "##and predict what a woman in a position where a man recieves your ideal stipend would make\n",
    "\n"
   ]
  },
  {
   "cell_type": "code",
   "execution_count": 108,
   "metadata": {
    "collapsed": true
   },
   "outputs": [],
   "source": [
    "stipend = 10000\n",
    "Fstipend = model1.params[0] + model1.params[1]*stipend"
   ]
  },
  {
   "cell_type": "code",
   "execution_count": 109,
   "metadata": {
    "collapsed": false
   },
   "outputs": [
    {
     "name": "stdout",
     "output_type": "stream",
     "text": [
      "7583.24467732\n"
     ]
    }
   ],
   "source": [
    "print Fstipend"
   ]
  },
  {
   "cell_type": "markdown",
   "metadata": {},
   "source": [
    "##lastly do you have any comments about what these data tell us about race? how you would go about analyzing race differences with these data? (just a few sentences)"
   ]
  },
  {
   "cell_type": "code",
   "execution_count": null,
   "metadata": {
    "collapsed": true
   },
   "outputs": [],
   "source": []
  }
 ],
 "metadata": {
  "kernelspec": {
   "display_name": "Python 2",
   "language": "python",
   "name": "python2"
  },
  "language_info": {
   "codemirror_mode": {
    "name": "ipython",
    "version": 2
   },
   "file_extension": ".py",
   "mimetype": "text/x-python",
   "name": "python",
   "nbconvert_exporter": "python",
   "pygments_lexer": "ipython2",
   "version": "2.7.10"
  }
 },
 "nbformat": 4,
 "nbformat_minor": 0
}
